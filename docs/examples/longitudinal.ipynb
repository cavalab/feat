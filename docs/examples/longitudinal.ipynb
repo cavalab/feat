{
 "cells": [
  {
   "cell_type": "markdown",
   "metadata": {},
   "source": [
    "Using Longitudinal Data\n",
    "=======================\n",
    "\n",
    "This example demonstrates how to do cross validation with longitudinal\n",
    "data.\n",
    "By *longitudinal*, we mean predictors for specific samples that have more than one value. \n",
    "This could be time series data or any other sequential data we might want to model. \n",
    "\n",
    "\n",
    "Example Patient Data\n",
    "------------------------------\n",
    "\n",
    "First, we generate some example data and store it using this script: https://github.com/lacava/feat/blob/master/docs/examples/longitudinal/generate_example_longitudinal_data.py. \n",
    "\n",
    "Let’s imagine we have patient data from a hospital. \n",
    "This means we have measurements from different visits, with different numbers of measurements from different\n",
    "patients collected in non-uniform intervals.\n",
    "In this example, we make up a risk model in which risk increases for a\n",
    "patient with an increasing body mass index (BMI) and a high maximum\n",
    "glucose level in their blood panel."
   ]
  },
  {
   "cell_type": "code",
   "execution_count": 1,
   "metadata": {},
   "outputs": [],
   "source": [
    "import pandas as pd\n",
    "import numpy as np\n",
    "from sklearn.model_selection import KFold\n",
    "\n",
    "random_state=42\n",
    "\n",
    "df = pd.read_csv('data/d_example_patients.csv')\n",
    "df.drop('id',axis=1,inplace=True)\n",
    "X = df.drop('target',axis=1)\n",
    "y = df['target']\n",
    "kf = KFold(n_splits=3,shuffle=True,random_state=random_state)"
   ]
  },
  {
   "cell_type": "markdown",
   "metadata": {},
   "source": [
    "# longitudinal format\n",
    "\n",
    "FEAT expects longitudinal data in the following format:\n",
    "\n",
    "```python\n",
    "\n",
    "Z = {\n",
    "    'variable': ([patient1_values, patient2_values], [patient1_times, patient2_timestamps])\n",
    "}\n",
    "```\n",
    "\n",
    "\n",
    "Longitudinal data is a dictionary in which the keys are the variable names and the values are tuples. \n",
    "The first element of the tuple contains observations, and the second element contains corresponding time stamps for those observations. \n",
    "The observations and timestamps are expected to be lists, with one element for each patient. \n",
    "Each patient element contains all of the observations or time stamps for that patient. \n",
    "\n",
    "\n",
    "On the c++ side, FEAT interprets this into the following format:\n",
    "\n",
    "```c++\n",
    "typedef std::map<string, \n",
    "                 std::pair<vector<Eigen::ArrayXf>, vector<Eigen::ArrayXf>>\n",
    "                > LongData;\n",
    "```\n",
    "\n",
    "Although a little clunky, the goal is to store patient-specific values in arrays under the hood to allow for as much SIMD optimization as possible when evaluating operators."
   ]
  },
  {
   "cell_type": "markdown",
   "metadata": {},
   "source": [
    "Here is the longitudinal data we generated:"
   ]
  },
  {
   "cell_type": "code",
   "execution_count": 2,
   "metadata": {},
   "outputs": [
    {
     "data": {
      "text/html": [
       "<div>\n",
       "<style scoped>\n",
       "    .dataframe tbody tr th:only-of-type {\n",
       "        vertical-align: middle;\n",
       "    }\n",
       "\n",
       "    .dataframe tbody tr th {\n",
       "        vertical-align: top;\n",
       "    }\n",
       "\n",
       "    .dataframe thead th {\n",
       "        text-align: right;\n",
       "    }\n",
       "</style>\n",
       "<table border=\"1\" class=\"dataframe\">\n",
       "  <thead>\n",
       "    <tr style=\"text-align: right;\">\n",
       "      <th></th>\n",
       "      <th>id</th>\n",
       "      <th>name</th>\n",
       "      <th>date</th>\n",
       "      <th>value</th>\n",
       "    </tr>\n",
       "  </thead>\n",
       "  <tbody>\n",
       "    <tr>\n",
       "      <th>0</th>\n",
       "      <td>0</td>\n",
       "      <td>bmi</td>\n",
       "      <td>2515</td>\n",
       "      <td>40.000000</td>\n",
       "    </tr>\n",
       "    <tr>\n",
       "      <th>1</th>\n",
       "      <td>0</td>\n",
       "      <td>age</td>\n",
       "      <td>2515</td>\n",
       "      <td>33.000000</td>\n",
       "    </tr>\n",
       "    <tr>\n",
       "      <th>2</th>\n",
       "      <td>0</td>\n",
       "      <td>glucose</td>\n",
       "      <td>2515</td>\n",
       "      <td>0.058084</td>\n",
       "    </tr>\n",
       "    <tr>\n",
       "      <th>3</th>\n",
       "      <td>0</td>\n",
       "      <td>bmi</td>\n",
       "      <td>2979</td>\n",
       "      <td>40.000000</td>\n",
       "    </tr>\n",
       "    <tr>\n",
       "      <th>4</th>\n",
       "      <td>0</td>\n",
       "      <td>age</td>\n",
       "      <td>2979</td>\n",
       "      <td>34.000000</td>\n",
       "    </tr>\n",
       "    <tr>\n",
       "      <th>...</th>\n",
       "      <td>...</td>\n",
       "      <td>...</td>\n",
       "      <td>...</td>\n",
       "      <td>...</td>\n",
       "    </tr>\n",
       "    <tr>\n",
       "      <th>147250</th>\n",
       "      <td>992</td>\n",
       "      <td>age</td>\n",
       "      <td>71187</td>\n",
       "      <td>213.000000</td>\n",
       "    </tr>\n",
       "    <tr>\n",
       "      <th>147251</th>\n",
       "      <td>992</td>\n",
       "      <td>glucose</td>\n",
       "      <td>71187</td>\n",
       "      <td>0.388632</td>\n",
       "    </tr>\n",
       "    <tr>\n",
       "      <th>147252</th>\n",
       "      <td>992</td>\n",
       "      <td>bmi</td>\n",
       "      <td>72149</td>\n",
       "      <td>87.000000</td>\n",
       "    </tr>\n",
       "    <tr>\n",
       "      <th>147253</th>\n",
       "      <td>992</td>\n",
       "      <td>age</td>\n",
       "      <td>72149</td>\n",
       "      <td>215.000000</td>\n",
       "    </tr>\n",
       "    <tr>\n",
       "      <th>147254</th>\n",
       "      <td>992</td>\n",
       "      <td>glucose</td>\n",
       "      <td>72149</td>\n",
       "      <td>0.426824</td>\n",
       "    </tr>\n",
       "  </tbody>\n",
       "</table>\n",
       "<p>147255 rows × 4 columns</p>\n",
       "</div>"
      ],
      "text/plain": [
       "         id     name   date       value\n",
       "0         0      bmi   2515   40.000000\n",
       "1         0      age   2515   33.000000\n",
       "2         0  glucose   2515    0.058084\n",
       "3         0      bmi   2979   40.000000\n",
       "4         0      age   2979   34.000000\n",
       "...     ...      ...    ...         ...\n",
       "147250  992      age  71187  213.000000\n",
       "147251  992  glucose  71187    0.388632\n",
       "147252  992      bmi  72149   87.000000\n",
       "147253  992      age  72149  215.000000\n",
       "147254  992  glucose  72149    0.426824\n",
       "\n",
       "[147255 rows x 4 columns]"
      ]
     },
     "execution_count": 2,
     "metadata": {},
     "output_type": "execute_result"
    }
   ],
   "source": [
    "zfile = 'data/d_example_patients_long.csv'\n",
    "zdf = pd.read_csv('data/d_example_patients_long.csv')\n",
    "zdf"
   ]
  },
  {
   "cell_type": "markdown",
   "metadata": {},
   "source": [
    "As you can see it's in a long tabular format. Below we convert it to the FEAT input format."
   ]
  },
  {
   "cell_type": "code",
   "execution_count": 3,
   "metadata": {},
   "outputs": [],
   "source": [
    "dates = zdf.set_index(['name','id'])['date']\n",
    "values = zdf.set_index(['name','id'])['value']\n",
    "# zdf.set_index(['name','date']).to_dict(orient='tight')\n",
    "values.to_dict()\n",
    "Z = {}\n",
    "for name, zg in zdf.groupby('name'):\n",
    "    values = [\n",
    "        zgid['value'].values for _,zgid in zg.groupby('id')\n",
    "    ]\n",
    "    timestamps = [\n",
    "        zgid['date'].values for _,zgid in zg.groupby('id')\n",
    "    ]\n",
    "    Z[name] = (values, timestamps)\n",
    "    "
   ]
  },
  {
   "cell_type": "markdown",
   "metadata": {},
   "source": [
    "\n",
    "Next we set up the learner. We need to declare the longitudinal\n",
    "operators we want to search over. They are defined as a comma-delimited\n",
    "list of strings using the ``functions`` argument. In this case, the\n",
    "operators on the second row of the declaration below all operate on\n",
    "longitudinal data.\n"
   ]
  },
  {
   "cell_type": "code",
   "execution_count": 4,
   "metadata": {},
   "outputs": [],
   "source": [
    "from feat import Feat\n",
    "\n",
    "clf = Feat(max_depth=5,\n",
    "           max_dim=5,\n",
    "           gens = 10,\n",
    "           pop_size = 100,\n",
    "           max_time = 30, # seconds\n",
    "           verbosity=0,\n",
    "           shuffle=True,\n",
    "           normalize=False, # don't normalize input data\n",
    "           functions=['and','or','not','split','split_c',\n",
    "                     'mean','median','max','min','variance','skew','kurtosis','slope','count'\n",
    "                     ],\n",
    "           backprop=True,\n",
    "           batch_size=10,\n",
    "           iters=10,\n",
    "           random_state=random_state,\n",
    "           n_jobs=1,\n",
    "           simplify=0.01    # prune final representations\n",
    "          )\n"
   ]
  },
  {
   "cell_type": "markdown",
   "metadata": {},
   "source": [
    "Cross validation\n",
    "----------------\n",
    "\n",
    "Cross validation works a little bit differently with longitudinal data. \n",
    "The block below shows how to train a model using Kfold cross validation."
   ]
  },
  {
   "cell_type": "code",
   "execution_count": 5,
   "metadata": {
    "scrolled": true
   },
   "outputs": [
    {
     "name": "stdout",
     "output_type": "stream",
     "text": [
      "scores: [1.0990564495786515e-11, 4.775369117841527e-13, 2.51900467082436e-13]\n"
     ]
    }
   ],
   "source": [
    "scores=[]\n",
    "\n",
    "for train_idx, test_idx in kf.split(X,y):\n",
    "    # print('train_idx:',train_idx)\n",
    "    # note that the train index is passed to FEAT's fit method\n",
    "    Ztrain = {k:([v[0][i] for i in train_idx], [v[1][i] for i in train_idx]) for k,v in Z.items()}\n",
    "    Ztest = {k:([v[0][i] for i in test_idx], [v[1][i] for i in test_idx]) for k,v in Z.items()}\n",
    "    clf.fit(X.loc[train_idx],y.loc[train_idx],Ztrain) \n",
    "    scores.append(clf.score(X.loc[test_idx],y.loc[test_idx],Ztest))\n",
    "\n",
    "print('scores:',scores)"
   ]
  },
  {
   "cell_type": "markdown",
   "metadata": {},
   "source": [
    "Model Interpretation\n",
    "--------------------\n",
    "\n",
    "Now let’s fit a model to all the data and try to interpret it.\n"
   ]
  },
  {
   "cell_type": "code",
   "execution_count": 6,
   "metadata": {},
   "outputs": [
    {
     "name": "stdout",
     "output_type": "stream",
     "text": [
      "fitting longer to all data...\n"
     ]
    },
    {
     "data": {
      "text/html": [
       "<style>#sk-container-id-1 {color: black;background-color: white;}#sk-container-id-1 pre{padding: 0;}#sk-container-id-1 div.sk-toggleable {background-color: white;}#sk-container-id-1 label.sk-toggleable__label {cursor: pointer;display: block;width: 100%;margin-bottom: 0;padding: 0.3em;box-sizing: border-box;text-align: center;}#sk-container-id-1 label.sk-toggleable__label-arrow:before {content: \"▸\";float: left;margin-right: 0.25em;color: #696969;}#sk-container-id-1 label.sk-toggleable__label-arrow:hover:before {color: black;}#sk-container-id-1 div.sk-estimator:hover label.sk-toggleable__label-arrow:before {color: black;}#sk-container-id-1 div.sk-toggleable__content {max-height: 0;max-width: 0;overflow: hidden;text-align: left;background-color: #f0f8ff;}#sk-container-id-1 div.sk-toggleable__content pre {margin: 0.2em;color: black;border-radius: 0.25em;background-color: #f0f8ff;}#sk-container-id-1 input.sk-toggleable__control:checked~div.sk-toggleable__content {max-height: 200px;max-width: 100%;overflow: auto;}#sk-container-id-1 input.sk-toggleable__control:checked~label.sk-toggleable__label-arrow:before {content: \"▾\";}#sk-container-id-1 div.sk-estimator input.sk-toggleable__control:checked~label.sk-toggleable__label {background-color: #d4ebff;}#sk-container-id-1 div.sk-label input.sk-toggleable__control:checked~label.sk-toggleable__label {background-color: #d4ebff;}#sk-container-id-1 input.sk-hidden--visually {border: 0;clip: rect(1px 1px 1px 1px);clip: rect(1px, 1px, 1px, 1px);height: 1px;margin: -1px;overflow: hidden;padding: 0;position: absolute;width: 1px;}#sk-container-id-1 div.sk-estimator {font-family: monospace;background-color: #f0f8ff;border: 1px dotted black;border-radius: 0.25em;box-sizing: border-box;margin-bottom: 0.5em;}#sk-container-id-1 div.sk-estimator:hover {background-color: #d4ebff;}#sk-container-id-1 div.sk-parallel-item::after {content: \"\";width: 100%;border-bottom: 1px solid gray;flex-grow: 1;}#sk-container-id-1 div.sk-label:hover label.sk-toggleable__label {background-color: #d4ebff;}#sk-container-id-1 div.sk-serial::before {content: \"\";position: absolute;border-left: 1px solid gray;box-sizing: border-box;top: 0;bottom: 0;left: 50%;z-index: 0;}#sk-container-id-1 div.sk-serial {display: flex;flex-direction: column;align-items: center;background-color: white;padding-right: 0.2em;padding-left: 0.2em;position: relative;}#sk-container-id-1 div.sk-item {position: relative;z-index: 1;}#sk-container-id-1 div.sk-parallel {display: flex;align-items: stretch;justify-content: center;background-color: white;position: relative;}#sk-container-id-1 div.sk-item::before, #sk-container-id-1 div.sk-parallel-item::before {content: \"\";position: absolute;border-left: 1px solid gray;box-sizing: border-box;top: 0;bottom: 0;left: 50%;z-index: -1;}#sk-container-id-1 div.sk-parallel-item {display: flex;flex-direction: column;z-index: 1;position: relative;background-color: white;}#sk-container-id-1 div.sk-parallel-item:first-child::after {align-self: flex-end;width: 50%;}#sk-container-id-1 div.sk-parallel-item:last-child::after {align-self: flex-start;width: 50%;}#sk-container-id-1 div.sk-parallel-item:only-child::after {width: 0;}#sk-container-id-1 div.sk-dashed-wrapped {border: 1px dashed gray;margin: 0 0.4em 0.5em 0.4em;box-sizing: border-box;padding-bottom: 0.4em;background-color: white;}#sk-container-id-1 div.sk-label label {font-family: monospace;font-weight: bold;display: inline-block;line-height: 1.2em;}#sk-container-id-1 div.sk-label-container {text-align: center;}#sk-container-id-1 div.sk-container {/* jupyter's `normalize.less` sets `[hidden] { display: none; }` but bootstrap.min.css set `[hidden] { display: none !important; }` so we also need the `!important` here to be able to override the default hidden behavior on the sphinx rendered scikit-learn.org. See: https://github.com/scikit-learn/scikit-learn/issues/21755 */display: inline-block !important;position: relative;}#sk-container-id-1 div.sk-text-repr-fallback {display: none;}</style><div id=\"sk-container-id-1\" class=\"sk-top-container\"><div class=\"sk-text-repr-fallback\"><pre>Feat(backprop=True, batch_size=10, feature_names=&#x27;sex,race&#x27;,\n",
       "     functions=[&#x27;and&#x27;, &#x27;or&#x27;, &#x27;not&#x27;, &#x27;split&#x27;, &#x27;split_c&#x27;, &#x27;mean&#x27;, &#x27;median&#x27;, &#x27;max&#x27;,\n",
       "                &#x27;min&#x27;, &#x27;variance&#x27;, &#x27;skew&#x27;, &#x27;kurtosis&#x27;, &#x27;slope&#x27;, &#x27;count&#x27;],\n",
       "     max_depth=5, max_dim=5, max_time=30, normalize=False, random_state=42,\n",
       "     simplify=0.01)</pre><b>In a Jupyter environment, please rerun this cell to show the HTML representation or trust the notebook. <br />On GitHub, the HTML representation is unable to render, please try loading this page with nbviewer.org.</b></div><div class=\"sk-container\" hidden><div class=\"sk-item\"><div class=\"sk-estimator sk-toggleable\"><input class=\"sk-toggleable__control sk-hidden--visually\" id=\"sk-estimator-id-1\" type=\"checkbox\" checked><label for=\"sk-estimator-id-1\" class=\"sk-toggleable__label sk-toggleable__label-arrow\">Feat</label><div class=\"sk-toggleable__content\"><pre>Feat(backprop=True, batch_size=10, feature_names=&#x27;sex,race&#x27;,\n",
       "     functions=[&#x27;and&#x27;, &#x27;or&#x27;, &#x27;not&#x27;, &#x27;split&#x27;, &#x27;split_c&#x27;, &#x27;mean&#x27;, &#x27;median&#x27;, &#x27;max&#x27;,\n",
       "                &#x27;min&#x27;, &#x27;variance&#x27;, &#x27;skew&#x27;, &#x27;kurtosis&#x27;, &#x27;slope&#x27;, &#x27;count&#x27;],\n",
       "     max_depth=5, max_dim=5, max_time=30, normalize=False, random_state=42,\n",
       "     simplify=0.01)</pre></div></div></div></div></div>"
      ],
      "text/plain": [
       "Feat(backprop=True, batch_size=10, feature_names='sex,race',\n",
       "     functions=['and', 'or', 'not', 'split', 'split_c', 'mean', 'median', 'max',\n",
       "                'min', 'variance', 'skew', 'kurtosis', 'slope', 'count'],\n",
       "     max_depth=5, max_dim=5, max_time=30, normalize=False, random_state=42,\n",
       "     simplify=0.01)"
      ]
     },
     "execution_count": 6,
     "metadata": {},
     "output_type": "execute_result"
    }
   ],
   "source": [
    "# fit to all data\n",
    "\n",
    "print('fitting longer to all data...')\n",
    "clf.gens = 100\n",
    "clf.fit(X,y,Z)"
   ]
  },
  {
   "cell_type": "markdown",
   "metadata": {},
   "source": [
    "\n",
    "To see the learned representation, we run ``clf.get_representation()``:"
   ]
  },
  {
   "cell_type": "code",
   "execution_count": 7,
   "metadata": {},
   "outputs": [
    {
     "data": {
      "text/plain": [
       "'[slope(z_bmi)][max(z_glucose)]'"
      ]
     },
     "execution_count": 7,
     "metadata": {},
     "output_type": "execute_result"
    }
   ],
   "source": [
    "clf.get_representation()"
   ]
  },
  {
   "cell_type": "markdown",
   "metadata": {},
   "source": [
    "Here our final representation is composed of ``slope(z_bmi)`` and\n",
    "``max(z_glucose)``, both of which we know to be correct features for\n",
    "this simulated dataset. The best training representation displays clear\n",
    "overfitting, highlighting the importance of using archive validation for\n",
    "model selection.\n",
    "We can also look at the representation with the model weights, sorted by\n",
    "magnitude, using ``clf.get_model()``:"
   ]
  },
  {
   "cell_type": "code",
   "execution_count": 8,
   "metadata": {},
   "outputs": [
    {
     "name": "stdout",
     "output_type": "stream",
     "text": [
      "Weight\tFeature\n",
      "-1.40001\toffset\n",
      "1500.00\tslope(z_bmi)\n",
      "10.00\tmax(z_glucose)\n",
      "\n"
     ]
    }
   ],
   "source": [
    "print(clf.get_model())"
   ]
  },
  {
   "cell_type": "markdown",
   "metadata": {},
   "source": [
    "View runtime stats\n",
    "------------------\n",
    "\n",
    "FEAT stores statistics about the training procedure in a dictionary `clf.stats_`. \n",
    "An example of plotting from this dictionary is shown below."
   ]
  },
  {
   "cell_type": "code",
   "execution_count": 9,
   "metadata": {},
   "outputs": [
    {
     "data": {
      "text/plain": [
       "dict_keys(['generation', 'med_complexity', 'med_dim', 'med_loss', 'med_loss_v', 'med_num_params', 'med_size', 'min_loss', 'min_loss_v', 'time'])"
      ]
     },
     "execution_count": 9,
     "metadata": {},
     "output_type": "execute_result"
    }
   ],
   "source": [
    "clf.stats_.keys()"
   ]
  },
  {
   "cell_type": "code",
   "execution_count": 10,
   "metadata": {},
   "outputs": [
    {
     "data": {
      "image/png": "[encoded data removed]",
      "text/plain": [
       "<Figure size 640x480 with 1 Axes>"
      ]
     },
     "metadata": {},
     "output_type": "display_data"
    }
   ],
   "source": [
    "import matplotlib.pyplot as plt\n",
    "plt.plot(clf.stats_['time'], clf.stats_['min_loss'], 'b', label='training loss')\n",
    "plt.plot(clf.stats_['time'], clf.stats_['min_loss_v'], 'r', label='validation loss')\n",
    "plt.legend()\n",
    "plt.xlabel('Time (s)')\n",
    "plt.ylabel('MSE')\n",
    "plt.gca().set_yscale('log')\n",
    "plt.gca().set_xscale('log')"
   ]
  },
  {
   "cell_type": "code",
   "execution_count": 11,
   "metadata": {},
   "outputs": [
    {
     "data": {
      "image/png": "[encoded data removed]",
      "text/plain": [
       "<Figure size 640x480 with 1 Axes>"
      ]
     },
     "metadata": {},
     "output_type": "display_data"
    }
   ],
   "source": [
    "import matplotlib.pyplot as plt\n",
    "plt.plot(clf.stats_['time'], clf.stats_['med_complexity'], 'b', label='median complexity')\n",
    "# plt.plot(clf.stats_['time'], clf.stats_['med_size'], 'r', label='median size')\n",
    "plt.legend()\n",
    "plt.xlabel('Time (s)')\n",
    "plt.ylabel('Median Complexity')\n",
    "# plt.gca().set_yscale('log')\n",
    "plt.gca().set_xscale('log')"
   ]
  },
  {
   "cell_type": "markdown",
   "metadata": {},
   "source": [
    "Visualizing the representation\n",
    "------------------------------\n",
    "\n",
    "Here we take the two relevant features and plot the data with them.\n",
    "This shows us the risk surface as a function of these learned features."
   ]
  },
  {
   "cell_type": "code",
   "execution_count": 12,
   "metadata": {},
   "outputs": [
    {
     "name": "stdout",
     "output_type": "stream",
     "text": [
      "proj: (993, 2)\n",
      "rep: ['slope(z_bmi)', 'max(z_glucose)']\n"
     ]
    },
    {
     "name": "stderr",
     "output_type": "stream",
     "text": [
      "/tmp/ipykernel_11898/1426583834.py:11: MatplotlibDeprecationWarning: The get_cmap function was deprecated in Matplotlib 3.7 and will be removed two minor releases later. Use ``matplotlib.colormaps[name]`` or ``matplotlib.colormaps.get_cmap(obj)`` instead.\n",
      "  cm = plt.cm.get_cmap('RdBu')\n"
     ]
    },
    {
     "data": {
      "image/png": "[encoded data removed]",
      "text/plain": [
       "<Figure size 600x600 with 2 Axes>"
      ]
     },
     "metadata": {},
     "output_type": "display_data"
    }
   ],
   "source": [
    "# Visualize the representation\n",
    "\n",
    "proj = clf.transform(X,Z)\n",
    "\n",
    "print('proj:',proj.shape)\n",
    "import matplotlib.pyplot as plt\n",
    "import seaborn as sns\n",
    "import matplotlib.patheffects as PathEffects\n",
    "from matplotlib import cm\n",
    "\n",
    "cm = plt.cm.get_cmap('RdBu')\n",
    "# We choose a color palette with seaborn.\n",
    "# palette = np.array(sns.color_palette(\"cividis\", np.unique(y)))\n",
    "\n",
    "# We create a scatter plot.\n",
    "f = plt.figure(figsize=(6, 6))\n",
    "ax = plt.subplot(aspect='equal')\n",
    "sc = ax.scatter(proj[:,0], proj[:,1], lw=0, s=20,\n",
    "                c=y, cmap=cm)\n",
    "plt.colorbar(sc)\n",
    "# sc.colorbar()\n",
    "ax.axis('square')\n",
    "# ax.axis('off')\n",
    "ax.axis('tight')\n",
    "\n",
    "# add labels from representation\n",
    "rep = [r.split('[')[-1] for r in clf.get_representation().split(']') if r != '']\n",
    "print('rep:',rep)\n",
    "plt.xlabel(rep[0])\n",
    "plt.ylabel(rep[1])\n",
    "\n",
    "# plt.savefig('longitudinal_representation.svg', dpi=120)\n",
    "plt.show()"
   ]
  }
 ],
 "metadata": {
  "kernelspec": {
   "display_name": "Python 3 (ipykernel)",
   "language": "python",
   "name": "python3"
  },
  "language_info": {
   "codemirror_mode": {
    "name": "ipython",
    "version": 3
   },
   "file_extension": ".py",
   "mimetype": "text/x-python",
   "name": "python",
   "nbconvert_exporter": "python",
   "pygments_lexer": "ipython3",
   "version": "3.10.9"
  }
 },
 "nbformat": 4,
 "nbformat_minor": 4
}
