{
 "cells": [
  {
   "cell_type": "markdown",
   "metadata": {},
   "source": [
    "# Using Feat's archive\n",
    "\n",
    "Feat optimizes a population of models. \n",
    "At the end of the run, it can be useful to explore this population to find a trade-off between objectives, \n",
    "such as performance and complexity. \n",
    "\n",
    "In this example, we apply Feat to a regression problem and visualize the archive of representations. \n",
    "\n",
    "Note: this code uses the Penn ML Benchmark Suite (https://github.com/EpistasisLab/penn-ml-benchmarks/) to fetch data. You can install it using `pip install pmlb`.\n"
   ]
  },
  {
   "cell_type": "markdown",
   "metadata": {},
   "source": [
    "First, we import the data and create a train-test split."
   ]
  },
  {
   "cell_type": "code",
   "execution_count": 1,
   "metadata": {},
   "outputs": [],
   "source": [
    "from pmlb import fetch_data\n",
    "from sklearn.model_selection import train_test_split\n",
    "from sklearn.metrics import mean_squared_error as mse\n",
    "import numpy as np\n",
    "# fix the random state\n",
    "random_state=42\n",
    "dataset='690_visualizing_galaxy'\n",
    "X, y = fetch_data(dataset,return_X_y=True)\n",
    "X_t,X_v, y_t, y_v = train_test_split(X,y,train_size=0.75,test_size=0.25,random_state=random_state)"
   ]
  },
  {
   "cell_type": "markdown",
   "metadata": {},
   "source": [
    "Then we set up a Feat instance and train the model, storing the final archive."
   ]
  },
  {
   "cell_type": "code",
   "execution_count": 2,
   "metadata": {
    "scrolled": true
   },
   "outputs": [],
   "source": [
    "from feat import FeatRegressor\n",
    "\n",
    "\n",
    "fest = FeatRegressor(pop_size=10, # population size\n",
    "            gens=100, # maximum generations                            \n",
    "            max_time=60, # max time in seconds \n",
    "            max_depth=2, # constrain features depth                                                      \n",
    "            max_dim=5, # constrain representation dimensionality                                                      \n",
    "            random_state=random_state,                                                            \n",
    "            hillclimb=True, # use stochastic hillclimbing to optimize weights                                                   \n",
    "            iters=10, # iterations of hillclimbing\n",
    "            n_jobs=1, # restricts to single thread                                                      \n",
    "            verbosity=2, # verbose output (this will go to terminal, sry..)                                                      \n",
    "           ) \n",
    "\n"
   ]
  },
  {
   "cell_type": "code",
   "execution_count": 4,
   "metadata": {},
   "outputs": [
    {
     "name": "stdout",
     "output_type": "stream",
     "text": [
      "FEAT version: 0.5.2.post54\n"
     ]
    },
    {
     "data": {
      "text/html": [
       "<style>#sk-container-id-2 {color: black;background-color: white;}#sk-container-id-2 pre{padding: 0;}#sk-container-id-2 div.sk-toggleable {background-color: white;}#sk-container-id-2 label.sk-toggleable__label {cursor: pointer;display: block;width: 100%;margin-bottom: 0;padding: 0.3em;box-sizing: border-box;text-align: center;}#sk-container-id-2 label.sk-toggleable__label-arrow:before {content: \"▸\";float: left;margin-right: 0.25em;color: #696969;}#sk-container-id-2 label.sk-toggleable__label-arrow:hover:before {color: black;}#sk-container-id-2 div.sk-estimator:hover label.sk-toggleable__label-arrow:before {color: black;}#sk-container-id-2 div.sk-toggleable__content {max-height: 0;max-width: 0;overflow: hidden;text-align: left;background-color: #f0f8ff;}#sk-container-id-2 div.sk-toggleable__content pre {margin: 0.2em;color: black;border-radius: 0.25em;background-color: #f0f8ff;}#sk-container-id-2 input.sk-toggleable__control:checked~div.sk-toggleable__content {max-height: 200px;max-width: 100%;overflow: auto;}#sk-container-id-2 input.sk-toggleable__control:checked~label.sk-toggleable__label-arrow:before {content: \"▾\";}#sk-container-id-2 div.sk-estimator input.sk-toggleable__control:checked~label.sk-toggleable__label {background-color: #d4ebff;}#sk-container-id-2 div.sk-label input.sk-toggleable__control:checked~label.sk-toggleable__label {background-color: #d4ebff;}#sk-container-id-2 input.sk-hidden--visually {border: 0;clip: rect(1px 1px 1px 1px);clip: rect(1px, 1px, 1px, 1px);height: 1px;margin: -1px;overflow: hidden;padding: 0;position: absolute;width: 1px;}#sk-container-id-2 div.sk-estimator {font-family: monospace;background-color: #f0f8ff;border: 1px dotted black;border-radius: 0.25em;box-sizing: border-box;margin-bottom: 0.5em;}#sk-container-id-2 div.sk-estimator:hover {background-color: #d4ebff;}#sk-container-id-2 div.sk-parallel-item::after {content: \"\";width: 100%;border-bottom: 1px solid gray;flex-grow: 1;}#sk-container-id-2 div.sk-label:hover label.sk-toggleable__label {background-color: #d4ebff;}#sk-container-id-2 div.sk-serial::before {content: \"\";position: absolute;border-left: 1px solid gray;box-sizing: border-box;top: 0;bottom: 0;left: 50%;z-index: 0;}#sk-container-id-2 div.sk-serial {display: flex;flex-direction: column;align-items: center;background-color: white;padding-right: 0.2em;padding-left: 0.2em;position: relative;}#sk-container-id-2 div.sk-item {position: relative;z-index: 1;}#sk-container-id-2 div.sk-parallel {display: flex;align-items: stretch;justify-content: center;background-color: white;position: relative;}#sk-container-id-2 div.sk-item::before, #sk-container-id-2 div.sk-parallel-item::before {content: \"\";position: absolute;border-left: 1px solid gray;box-sizing: border-box;top: 0;bottom: 0;left: 50%;z-index: -1;}#sk-container-id-2 div.sk-parallel-item {display: flex;flex-direction: column;z-index: 1;position: relative;background-color: white;}#sk-container-id-2 div.sk-parallel-item:first-child::after {align-self: flex-end;width: 50%;}#sk-container-id-2 div.sk-parallel-item:last-child::after {align-self: flex-start;width: 50%;}#sk-container-id-2 div.sk-parallel-item:only-child::after {width: 0;}#sk-container-id-2 div.sk-dashed-wrapped {border: 1px dashed gray;margin: 0 0.4em 0.5em 0.4em;box-sizing: border-box;padding-bottom: 0.4em;background-color: white;}#sk-container-id-2 div.sk-label label {font-family: monospace;font-weight: bold;display: inline-block;line-height: 1.2em;}#sk-container-id-2 div.sk-label-container {text-align: center;}#sk-container-id-2 div.sk-container {/* jupyter's `normalize.less` sets `[hidden] { display: none; }` but bootstrap.min.css set `[hidden] { display: none !important; }` so we also need the `!important` here to be able to override the default hidden behavior on the sphinx rendered scikit-learn.org. See: https://github.com/scikit-learn/scikit-learn/issues/21755 */display: inline-block !important;position: relative;}#sk-container-id-2 div.sk-text-repr-fallback {display: none;}</style><div id=\"sk-container-id-2\" class=\"sk-top-container\"><div class=\"sk-text-repr-fallback\"><pre>FeatRegressor(backprop=False, batch_size=0, classification=False,\n",
       "              corr_delete_mutate=False, cross_rate=0.5, erc=False, fb=0.5,\n",
       "              feature_names=&#x27;&#x27;, functions=&#x27;&#x27;, gens=100, hillclimb=True,\n",
       "              iters=10, logfile=&#x27;&#x27;, lr=0.1, max_depth=2, max_dim=5, max_stall=0,\n",
       "              max_time=60, ml=&#x27;LinearRidgeRegression&#x27;, n_jobs=1, normalize=True,\n",
       "              obj=&#x27;fitness,complexity&#x27;, otype=&#x27;a&#x27;, pop_size=10,\n",
       "              protected_groups=&#x27;&#x27;, random_state=42, residual_xo=False,\n",
       "              root_xo_rate=0.5, save_pop=0, scorer=&#x27;&#x27;, ...)</pre><b>In a Jupyter environment, please rerun this cell to show the HTML representation or trust the notebook. <br />On GitHub, the HTML representation is unable to render, please try loading this page with nbviewer.org.</b></div><div class=\"sk-container\" hidden><div class=\"sk-item\"><div class=\"sk-estimator sk-toggleable\"><input class=\"sk-toggleable__control sk-hidden--visually\" id=\"sk-estimator-id-2\" type=\"checkbox\" checked><label for=\"sk-estimator-id-2\" class=\"sk-toggleable__label sk-toggleable__label-arrow\">FeatRegressor</label><div class=\"sk-toggleable__content\"><pre>FeatRegressor(backprop=False, batch_size=0, classification=False,\n",
       "              corr_delete_mutate=False, cross_rate=0.5, erc=False, fb=0.5,\n",
       "              feature_names=&#x27;&#x27;, functions=&#x27;&#x27;, gens=100, hillclimb=True,\n",
       "              iters=10, logfile=&#x27;&#x27;, lr=0.1, max_depth=2, max_dim=5, max_stall=0,\n",
       "              max_time=60, ml=&#x27;LinearRidgeRegression&#x27;, n_jobs=1, normalize=True,\n",
       "              obj=&#x27;fitness,complexity&#x27;, otype=&#x27;a&#x27;, pop_size=10,\n",
       "              protected_groups=&#x27;&#x27;, random_state=42, residual_xo=False,\n",
       "              root_xo_rate=0.5, save_pop=0, scorer=&#x27;&#x27;, ...)</pre></div></div></div></div></div>"
      ],
      "text/plain": [
       "FeatRegressor(backprop=False, batch_size=0, classification=False,\n",
       "              corr_delete_mutate=False, cross_rate=0.5, erc=False, fb=0.5,\n",
       "              feature_names='', functions='', gens=100, hillclimb=True,\n",
       "              iters=10, logfile='', lr=0.1, max_depth=2, max_dim=5, max_stall=0,\n",
       "              max_time=60, ml='LinearRidgeRegression', n_jobs=1, normalize=True,\n",
       "              obj='fitness,complexity', otype='a', pop_size=10,\n",
       "              protected_groups='', random_state=42, residual_xo=False,\n",
       "              root_xo_rate=0.5, save_pop=0, scorer='', ...)"
      ]
     },
     "execution_count": 4,
     "metadata": {},
     "output_type": "execute_result"
    }
   ],
   "source": [
    "print('FEAT version:', fest.__version__)\n",
    "fest"
   ]
  },
  {
   "cell_type": "code",
   "execution_count": null,
   "metadata": {
    "scrolled": true
   },
   "outputs": [
    {
     "name": "stdout",
     "output_type": "stream",
     "text": [
      "> \u001b[0;32m/home/bill/mambaforge/envs/feat2/lib/python3.11/site-packages/feat_ml-0.5.2.post54-py3.11-linux-x86_64.egg/feat/feat.py\u001b[0m(289)\u001b[0;36mfit\u001b[0;34m()\u001b[0m\n",
      "\u001b[0;32m    287 \u001b[0;31m            \u001b[0;32mimport\u001b[0m \u001b[0mpdb\u001b[0m\u001b[0;34m\u001b[0m\u001b[0;34m\u001b[0m\u001b[0m\n",
      "\u001b[0m\u001b[0;32m    288 \u001b[0;31m            \u001b[0mpdb\u001b[0m\u001b[0;34m.\u001b[0m\u001b[0mset_trace\u001b[0m\u001b[0;34m(\u001b[0m\u001b[0;34m)\u001b[0m\u001b[0;34m\u001b[0m\u001b[0;34m\u001b[0m\u001b[0m\n",
      "\u001b[0m\u001b[0;32m--> 289 \u001b[0;31m            \u001b[0mself\u001b[0m\u001b[0;34m.\u001b[0m\u001b[0m_fit\u001b[0m\u001b[0;34m(\u001b[0m\u001b[0mX\u001b[0m\u001b[0;34m,\u001b[0m\u001b[0my\u001b[0m\u001b[0;34m)\u001b[0m\u001b[0;34m\u001b[0m\u001b[0;34m\u001b[0m\u001b[0m\n",
      "\u001b[0m\u001b[0;32m    290 \u001b[0;31m\u001b[0;34m\u001b[0m\u001b[0m\n",
      "\u001b[0m\u001b[0;32m    291 \u001b[0;31m        self.set_params(**{k[1:]:v for k,v in self._get_params().items() \n",
      "\u001b[0m\n",
      "ipdb> c\n"
     ]
    }
   ],
   "source": [
    "# train the model\n",
    "fest.fit(X_t,y_t)"
   ]
  },
  {
   "cell_type": "code",
   "execution_count": null,
   "metadata": {
    "scrolled": true
   },
   "outputs": [],
   "source": [
    "# get the test score\n",
    "test_score = {}\n",
    "test_score['feat'] = mse(y_v,fest.predict(X_v))\n",
    "\n",
    "# store the archive\n",
    "archive = fest.get_archive(justfront=True)\n",
    "\n",
    "# print the archive\n",
    "print('complexity','fitness','validation fitness',\n",
    "     'eqn')\n",
    "order = np.argsort([a['complexity'] for a in archive])\n",
    "complexity = []\n",
    "fit_train = []\n",
    "fit_test = []\n",
    "eqn = []\n",
    "\n",
    "for o in order:\n",
    "    model = archive[o]\n",
    "    if model['rank'] == 1:\n",
    "        print(model['complexity'],\n",
    "              model['fitness'],\n",
    "              model['fitness_v'],\n",
    "              model['eqn'],\n",
    "             )\n",
    "\n",
    "        complexity.append(model['complexity'])\n",
    "        fit_train.append(model['fitness'])\n",
    "        fit_test.append(model['fitness_v'])\n",
    "        eqn.append(model['eqn'])"
   ]
  },
  {
   "cell_type": "markdown",
   "metadata": {
    "scrolled": true
   },
   "source": [
    "For comparison, we can fit an Elastic Net and Random Forest regression model to the same data.\n"
   ]
  },
  {
   "cell_type": "code",
   "execution_count": null,
   "metadata": {},
   "outputs": [],
   "source": [
    "from sklearn.ensemble import RandomForestRegressor\n",
    "\n",
    "rf = RandomForestRegressor(random_state=random_state)\n",
    "\n",
    "rf.fit(X_t,y_t)\n",
    "\n",
    "test_score['rf'] = mse(y_v,rf.predict(X_v))\n"
   ]
  },
  {
   "cell_type": "code",
   "execution_count": null,
   "metadata": {},
   "outputs": [],
   "source": [
    "from sklearn.linear_model import ElasticNet\n",
    "\n",
    "linest = ElasticNet()\n",
    "\n",
    "linest.fit(X_t,y_t)\n",
    "\n",
    "test_score['elasticnet'] = mse(y_v,linest.predict(X_v))\n"
   ]
  },
  {
   "cell_type": "markdown",
   "metadata": {},
   "source": [
    "Let's look at the test set mean squared errors by method."
   ]
  },
  {
   "cell_type": "code",
   "execution_count": null,
   "metadata": {},
   "outputs": [],
   "source": [
    "test_score"
   ]
  },
  {
   "cell_type": "markdown",
   "metadata": {},
   "source": [
    "## Visualizing the Archive\n",
    "\n",
    "Let's visualize this archive with the test scores. This gives us a sense of how increasing the representation\n",
    "complexity affects the quality of the model and its generalization.\n"
   ]
  },
  {
   "cell_type": "code",
   "execution_count": null,
   "metadata": {
    "scrolled": false
   },
   "outputs": [],
   "source": [
    "import numpy as np\n",
    "import matplotlib\n",
    "import matplotlib.pyplot as plt\n",
    "import seaborn as sns\n",
    "import math\n",
    "\n",
    "matplotlib.rcParams['figure.figsize'] = (10, 6)\n",
    "%matplotlib inline \n",
    "sns.set_style('white')\n",
    "h = plt.figure(figsize=(14,8))\n",
    "\n",
    "# plot archive points \n",
    "plt.plot(fit_train,complexity,'--ro',label='Train',markersize=6)\n",
    "plt.plot(fit_test,complexity,'--bx',label='Validation')\n",
    "# some models to point out\n",
    "best = np.argmin(np.array(fit_test))\n",
    "middle = np.argmin(np.abs(np.array(fit_test[:best])-test_score['rf']))\n",
    "small = np.argmin(np.abs(np.array(fit_test[:middle])-test_score['elasticnet']))\n",
    "\n",
    "print('best:',complexity[best])\n",
    "print('middle:',complexity[middle])\n",
    "print('small:',complexity[small])\n",
    "plt.plot(fit_test[best],complexity[best],'sk',markersize=16,markerfacecolor='none',label='Model Selection')\n",
    "\n",
    "# test score lines\n",
    "y1 = -1\n",
    "y2 = np.max(complexity)+1\n",
    "plt.plot((test_score['feat'],test_score['feat']),(y1,y2),'--k',label='FEAT Test',alpha=0.5)\n",
    "plt.plot((test_score['rf'],test_score['rf']),(y1,y2),'-.xg',label='RF Test',alpha=0.5)\n",
    "plt.plot((test_score['elasticnet'],test_score['elasticnet']),(y1,y2),'-sm',label='ElasticNet Test',alpha=0.5)\n",
    "\n",
    "print('complexity',complexity)\n",
    "xoff = 100\n",
    "for e,t,c in zip(eqn,fit_test,complexity):\n",
    "    if c in [complexity[best],complexity[middle],complexity[small]]:\n",
    "        t = t+xoff\n",
    "        tax = plt.text(t,c,'$\\leftarrow'+e+'$',size=18,horizontalalignment='left',\n",
    "                      verticalalignment='center')\n",
    "        tax.set_bbox(dict(facecolor='white', alpha=0.75, edgecolor='k'))\n",
    "\n",
    "l = plt.legend(prop={'size': 16},loc=[1.01,0.25])\n",
    "plt.xlabel('MSE',size=16)\n",
    "plt.xlim(np.min(fit_train)*.75,np.max(fit_test)*2)\n",
    "plt.gca().set_xscale('log')\n",
    "plt.gca().set_yscale('log')\n",
    "\n",
    "plt.gca().set_yticklabels('')\n",
    "plt.gca().set_xticklabels('')\n",
    "\n",
    "plt.ylabel('Complexity',size=18)\n",
    "h.tight_layout()\n",
    "\n",
    "plt.show()"
   ]
  },
  {
   "cell_type": "markdown",
   "metadata": {},
   "source": [
    "Note that ElasticNet produces a similar test score to the linear representation\n",
    "in Feat's archive, and that Random Forest's test score is near the representation shown in the middle.\n",
    "\n",
    "The best model, marked with a square, is selected from the validation curve (blue line).\n",
    "The validation curve shows how models begin to overfit as complexity grows.\n",
    "By visualizing the archive, we can see that some lower complexity models achieve nearly as good of a validation score.\n",
    "In this case it may be preferable to choose that representation instead."
   ]
  },
  {
   "cell_type": "markdown",
   "metadata": {},
   "source": [
    "By default, FEAT will choose the model with the lowest validation error, marked with a square above. \n",
    "Let's look at that model.\n",
    "\n",
    "the function `get_model()` will print a table of the learned features, optionally ordered by the magnitude of their weights."
   ]
  },
  {
   "cell_type": "code",
   "execution_count": null,
   "metadata": {},
   "outputs": [],
   "source": [
    "print(fest.get_model(sort=False))"
   ]
  }
 ],
 "metadata": {
  "kernelspec": {
   "display_name": "Python 3 (ipykernel)",
   "language": "python",
   "name": "python3"
  },
  "language_info": {
   "codemirror_mode": {
    "name": "ipython",
    "version": 3
   },
   "file_extension": ".py",
   "mimetype": "text/x-python",
   "name": "python",
   "nbconvert_exporter": "python",
   "pygments_lexer": "ipython3",
   "version": "3.11.0"
  }
 },
 "nbformat": 4,
 "nbformat_minor": 2
}
